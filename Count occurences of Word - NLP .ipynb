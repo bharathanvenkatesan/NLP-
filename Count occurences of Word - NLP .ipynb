{
 "cells": [
  {
   "cell_type": "code",
   "execution_count": 16,
   "metadata": {},
   "outputs": [
    {
     "name": "stderr",
     "output_type": "stream",
     "text": [
      "[nltk_data] Downloading package stopwords to\n",
      "[nltk_data]     C:\\Users\\BILIGHT\\AppData\\Roaming\\nltk_data...\n",
      "[nltk_data]   Package stopwords is already up-to-date!\n",
      "[nltk_data] Downloading package punkt to\n",
      "[nltk_data]     C:\\Users\\BILIGHT\\AppData\\Roaming\\nltk_data...\n",
      "[nltk_data]   Package punkt is already up-to-date!\n"
     ]
    }
   ],
   "source": [
    "import pandas as pd \n",
    "from collections import Counter\n",
    "from nltk.corpus import stopwords \n",
    "from nltk.tokenize import word_tokenize \n",
    "import nltk\n",
    "nltk.download('stopwords')\n",
    "nltk.download('punkt')\n",
    "pd.set_option('display.max_rows', False)\n",
    "pd.set_option('display.max_columns', False)"
   ]
  },
  {
   "cell_type": "code",
   "execution_count": 1,
   "metadata": {},
   "outputs": [
    {
     "name": "stdout",
     "output_type": "stream",
     "text": [
      "Lorem ipsum is a pseudo-Latin text used in web design, typography, layout, and printing in place of English to emphasise design elements over content. It's also called placeholder (or filler) text. It's a convenient tool for mock-ups. It helps to outline the visual elements of a document or presentation, eg typography, font, or layout. Lorem ipsum is mostly a part of a Latin text by the classical author and philosopher Cicero. Its words and letters have been changed by addition or removal, so to deliberately render its content nonsensical; it's not genuine, correct, or comprehensible Latin anymore. While lorem ipsum's still resembles classical Latin, it actually has no meaning whatsoever. As Cicero's text doesn't contain the letters K, W, or Z, alien to latin, these, and others are often inserted randomly to mimic the typographic appearence of European languages, as are digraphs not to be found in the original.\n",
      "\n",
      "In a professional context it often happens that private or corporate clients corder a publication to be made and presented with the actual content still not being ready. Think of a news blog that's filled with content hourly on the day of going live. However, reviewers tend to be distracted by comprehensible content, say, a random text copied from a newspaper or the internet. The are likely to focus on the text, disregarding the layout and its elements. Besides, random text risks to be unintendedly humorous or offensive, an unacceptable risk in corporate environments. Lorem ipsum and its many variants have been employed since the early 1960ies, and quite likely since the sixteenth century.\n",
      "\n",
      "Lorem Ipsum: common examples\n"
     ]
    }
   ],
   "source": [
    "with open(\"dword.txt\",\"r\", encoding=\"utf-8\") as text_file:\n",
    "    contents = text_file.read()\n",
    "print(contents)"
   ]
  },
  {
   "cell_type": "code",
   "execution_count": 2,
   "metadata": {},
   "outputs": [],
   "source": [
    "for char in '-.,\\n('')':\n",
    "    Text=contents.replace(char,'')\n",
    "text=Text.lower()"
   ]
  },
  {
   "cell_type": "code",
   "execution_count": 3,
   "metadata": {},
   "outputs": [],
   "source": [
    "#print(text.lower()\n",
    "sp=str(text.split())\n"
   ]
  },
  {
   "cell_type": "code",
   "execution_count": 4,
   "metadata": {},
   "outputs": [
    {
     "name": "stdout",
     "output_type": "stream",
     "text": [
      "['lorem', 'ipsum', 'is', 'a', 'pseudo-latin', 'text', 'used', 'in', 'web', 'design,', 'typography,', 'layout,', 'and', 'printing', 'in', 'place', 'of', 'english', 'to', 'emphasise', 'design', 'elements', 'over', 'content.', \"it's\", 'also', 'called', 'placeholder', '(or', 'filler', 'text.', \"it's\", 'a', 'convenient', 'tool', 'for', 'mock-ups.', 'it', 'helps', 'to', 'outline', 'the', 'visual', 'elements', 'of', 'a', 'document', 'or', 'presentation,', 'eg', 'typography,', 'font,', 'or', 'layout.', 'lorem', 'ipsum', 'is', 'mostly', 'a', 'part', 'of', 'a', 'latin', 'text', 'by', 'the', 'classical', 'author', 'and', 'philosopher', 'cicero.', 'its', 'words', 'and', 'letters', 'have', 'been', 'changed', 'by', 'addition', 'or', 'removal,', 'so', 'to', 'deliberately', 'render', 'its', 'content', 'nonsensical;', \"it's\", 'not', 'genuine,', 'correct,', 'or', 'comprehensible', 'latin', 'anymore.', 'while', 'lorem', \"ipsum's\", 'still', 'resembles', 'classical', 'latin,', 'it', 'actually', 'has', 'no', 'meaning', 'whatsoever.', 'as', \"cicero's\", 'text', \"doesn't\", 'contain', 'the', 'letters', 'k,', 'w,', 'or', 'z,', 'alien', 'to', 'latin,', 'these,', 'and', 'others', 'are', 'often', 'inserted', 'randomly', 'to', 'mimic', 'the', 'typographic', 'appearence', 'of', 'european', 'languages,', 'as', 'are', 'digraphs', 'not', 'to', 'be', 'found', 'in', 'the', 'original.', 'in', 'a', 'professional', 'context', 'it', 'often', 'happens', 'that', 'private', 'or', 'corporate', 'clients', 'corder', 'a', 'publication', 'to', 'be', 'made', 'and', 'presented', 'with', 'the', 'actual', 'content', 'still', 'not', 'being', 'ready.', 'think', 'of', 'a', 'news', 'blog', \"that's\", 'filled', 'with', 'content', 'hourly', 'on', 'the', 'day', 'of', 'going', 'live.', 'however,', 'reviewers', 'tend', 'to', 'be', 'distracted', 'by', 'comprehensible', 'content,', 'say,', 'a', 'random', 'text', 'copied', 'from', 'a', 'newspaper', 'or', 'the', 'internet.', 'the', 'are', 'likely', 'to', 'focus', 'on', 'the', 'text,', 'disregarding', 'the', 'layout', 'and', 'its', 'elements.', 'besides,', 'random', 'text', 'risks', 'to', 'be', 'unintendedly', 'humorous', 'or', 'offensive,', 'an', 'unacceptable', 'risk', 'in', 'corporate', 'environments.', 'lorem', 'ipsum', 'and', 'its', 'many', 'variants', 'have', 'been', 'employed', 'since', 'the', 'early', '1960ies,', 'and', 'quite', 'likely', 'since', 'the', 'sixteenth', 'century.', 'lorem', 'ipsum:', 'common', 'examples']\n"
     ]
    }
   ],
   "source": [
    "print(sp)\n"
   ]
  },
  {
   "cell_type": "code",
   "execution_count": 5,
   "metadata": {},
   "outputs": [
    {
     "name": "stdout",
     "output_type": "stream",
     "text": [
      "<class 'str'>\n"
     ]
    }
   ],
   "source": [
    "print(type(contents))"
   ]
  },
  {
   "cell_type": "code",
   "execution_count": 6,
   "metadata": {},
   "outputs": [
    {
     "name": "stdout",
     "output_type": "stream",
     "text": [
      "<class 'str'>\n"
     ]
    }
   ],
   "source": [
    "print(type(text))"
   ]
  },
  {
   "cell_type": "code",
   "execution_count": 7,
   "metadata": {},
   "outputs": [
    {
     "name": "stdout",
     "output_type": "stream",
     "text": [
      "<class 'str'>\n"
     ]
    }
   ],
   "source": [
    "print(type(sp))"
   ]
  },
  {
   "cell_type": "code",
   "execution_count": 8,
   "metadata": {},
   "outputs": [],
   "source": [
    "res = sp.strip('][\"\"').split(', ') \n"
   ]
  },
  {
   "cell_type": "code",
   "execution_count": 11,
   "metadata": {},
   "outputs": [],
   "source": [
    "data=pd.DataFrame(res,columns=['Words'])"
   ]
  },
  {
   "cell_type": "code",
   "execution_count": 12,
   "metadata": {},
   "outputs": [],
   "source": [
    "import pandas as pd"
   ]
  },
  {
   "cell_type": "code",
   "execution_count": 17,
   "metadata": {},
   "outputs": [],
   "source": [
    "onlycount=data['Words'].value_counts()"
   ]
  },
  {
   "cell_type": "code",
   "execution_count": 18,
   "metadata": {},
   "outputs": [],
   "source": [
    "onlycount.to_excel('paragraph.xlsx',index=True)"
   ]
  },
  {
   "cell_type": "code",
   "execution_count": 19,
   "metadata": {},
   "outputs": [
    {
     "name": "stdout",
     "output_type": "stream",
     "text": [
      "\n"
     ]
    }
   ],
   "source": [
    "example_sent = contents\n",
    "  \n",
    "stop_words = set(stopwords.words('english')) \n",
    "  \n",
    "word_tokens = word_tokenize(example_sent) \n",
    "  \n",
    "filtered_sentence = [w for w in word_tokens if not w in stop_words] \n",
    "  \n",
    "filtered_sentence = [] \n",
    "  \n",
    "for w in word_tokens: \n",
    "    if w not in stop_words: \n",
    "        filtered_sentence.append(w) \n",
    "  \n",
    "print() "
   ]
  },
  {
   "cell_type": "code",
   "execution_count": 20,
   "metadata": {},
   "outputs": [
    {
     "name": "stdout",
     "output_type": "stream",
     "text": [
      "<class 'list'>\n"
     ]
    }
   ],
   "source": [
    "print(type(filtered_sentence))"
   ]
  },
  {
   "cell_type": "code",
   "execution_count": 21,
   "metadata": {},
   "outputs": [
    {
     "name": "stdout",
     "output_type": "stream",
     "text": [
      "['Lorem', 'ipsum', 'pseudo-Latin', 'text', 'used', 'web', 'design', ',', 'typography', ',', 'layout', ',', 'printing', 'place', 'English', 'emphasise', 'design', 'elements', 'content', '.', 'It', \"'s\", 'also', 'called', 'placeholder', '(', 'filler', ')', 'text', '.', 'It', \"'s\", 'convenient', 'tool', 'mock-ups', '.', 'It', 'helps', 'outline', 'visual', 'elements', 'document', 'presentation', ',', 'eg', 'typography', ',', 'font', ',', 'layout', '.', 'Lorem', 'ipsum', 'mostly', 'part', 'Latin', 'text', 'classical', 'author', 'philosopher', 'Cicero', '.', 'Its', 'words', 'letters', 'changed', 'addition', 'removal', ',', 'deliberately', 'render', 'content', 'nonsensical', ';', \"'s\", 'genuine', ',', 'correct', ',', 'comprehensible', 'Latin', 'anymore', '.', 'While', 'lorem', 'ipsum', \"'s\", 'still', 'resembles', 'classical', 'Latin', ',', 'actually', 'meaning', 'whatsoever', '.', 'As', 'Cicero', \"'s\", 'text', \"n't\", 'contain', 'letters', 'K', ',', 'W', ',', 'Z', ',', 'alien', 'latin', ',', ',', 'others', 'often', 'inserted', 'randomly', 'mimic', 'typographic', 'appearence', 'European', 'languages', ',', 'digraphs', 'found', 'original', '.', 'In', 'professional', 'context', 'often', 'happens', 'private', 'corporate', 'clients', 'corder', 'publication', 'made', 'presented', 'actual', 'content', 'still', 'ready', '.', 'Think', 'news', 'blog', \"'s\", 'filled', 'content', 'hourly', 'day', 'going', 'live', '.', 'However', ',', 'reviewers', 'tend', 'distracted', 'comprehensible', 'content', ',', 'say', ',', 'random', 'text', 'copied', 'newspaper', 'internet', '.', 'The', 'likely', 'focus', 'text', ',', 'disregarding', 'layout', 'elements', '.', 'Besides', ',', 'random', 'text', 'risks', 'unintendedly', 'humorous', 'offensive', ',', 'unacceptable', 'risk', 'corporate', 'environments', '.', 'Lorem', 'ipsum', 'many', 'variants', 'employed', 'since', 'early', '1960ies', ',', 'quite', 'likely', 'since', 'sixteenth', 'century', '.', 'Lorem', 'Ipsum', ':', 'common', 'examples']\n"
     ]
    }
   ],
   "source": [
    "exList = filtered_sentence\n",
    "SYMBOLS = '{}()[].,:;+-*/&|<>=~'\n",
    "deci=range(0,10000)\n",
    "results = []\n",
    "for element in exList:\n",
    "    temp = \"\"\n",
    "    for ch in element:\n",
    "        if ch not in SYMBOLS or deci:\n",
    "            temp += ch\n",
    "\n",
    "    results.append(temp)\n",
    "\n",
    "print(results)"
   ]
  },
  {
   "cell_type": "code",
   "execution_count": 22,
   "metadata": {},
   "outputs": [
    {
     "name": "stdout",
     "output_type": "stream",
     "text": [
      "<class 'str'>\n"
     ]
    }
   ],
   "source": [
    "s =filtered_sentence\n",
    "result = ' '.join([i for i in s if not i.isdigit()])\n",
    "print(type(result))\n"
   ]
  },
  {
   "cell_type": "code",
   "execution_count": 24,
   "metadata": {},
   "outputs": [],
   "source": [
    "import re\n",
    "letters_only = re.sub(\"[^a-zA-Z]\",  # Search for all non-letters\n",
    "                          \" \",          # Replace all non-letters with spaces\n",
    "                          str(s))"
   ]
  },
  {
   "cell_type": "code",
   "execution_count": 25,
   "metadata": {},
   "outputs": [
    {
     "data": {
      "text/plain": [
       "<function str.split(sep=None, maxsplit=-1)>"
      ]
     },
     "execution_count": 25,
     "metadata": {},
     "output_type": "execute_result"
    }
   ],
   "source": [
    "letters_only.split"
   ]
  },
  {
   "cell_type": "code",
   "execution_count": 26,
   "metadata": {},
   "outputs": [
    {
     "name": "stdout",
     "output_type": "stream",
     "text": [
      "<class 'str'>\n"
     ]
    }
   ],
   "source": [
    "print(type(letters_only))"
   ]
  },
  {
   "cell_type": "code",
   "execution_count": 27,
   "metadata": {},
   "outputs": [],
   "source": [
    "data = letters_only\n",
    "df = pd.DataFrame([x.split(' ') for x in data.split('\\n')])\n",
    "td=df.T"
   ]
  },
  {
   "cell_type": "code",
   "execution_count": 28,
   "metadata": {},
   "outputs": [
    {
     "data": {
      "text/plain": [
       "0              \n",
       "1              \n",
       "2         Lorem\n",
       "3              \n",
       "4              \n",
       "5              \n",
       "6         ipsum\n",
       "7              \n",
       "8              \n",
       "9              \n",
       "10       pseudo\n",
       "11        Latin\n",
       "12             \n",
       "13             \n",
       "14             \n",
       "         ...   \n",
       "896            \n",
       "897            \n",
       "898            \n",
       "899            \n",
       "900            \n",
       "901            \n",
       "902            \n",
       "903            \n",
       "904      common\n",
       "905            \n",
       "906            \n",
       "907            \n",
       "908    examples\n",
       "909            \n",
       "910            \n",
       "Name: 0, Length: 911, dtype: object"
      ]
     },
     "execution_count": 28,
     "metadata": {},
     "output_type": "execute_result"
    }
   ],
   "source": [
    "td[0].dropna()"
   ]
  },
  {
   "cell_type": "code",
   "execution_count": 29,
   "metadata": {},
   "outputs": [
    {
     "data": {
      "text/plain": [
       "              735\n",
       "text            7\n",
       "s               6\n",
       "content         5\n",
       "Lorem           4\n",
       "ipsum           4\n",
       "Latin           4\n",
       "elements        3\n",
       "It              3\n",
       "layout          3\n",
       "Cicero          2\n",
       "random          2\n",
       "often           2\n",
       "since           2\n",
       "typography      2\n",
       "             ... \n",
       "going           1\n",
       "sixteenth       1\n",
       "common          1\n",
       "helps           1\n",
       "alien           1\n",
       "addition        1\n",
       "mimic           1\n",
       "mostly          1\n",
       "many            1\n",
       "others          1\n",
       "Its             1\n",
       "appearence      1\n",
       "variants        1\n",
       "Think           1\n",
       "emphasise       1\n",
       "Name: 0, Length: 135, dtype: int64"
      ]
     },
     "execution_count": 29,
     "metadata": {},
     "output_type": "execute_result"
    }
   ],
   "source": [
    "td[0].value_counts()"
   ]
  },
  {
   "cell_type": "code",
   "execution_count": 30,
   "metadata": {},
   "outputs": [],
   "source": [
    "newcount=td[0].value_counts()"
   ]
  },
  {
   "cell_type": "code",
   "execution_count": 31,
   "metadata": {},
   "outputs": [],
   "source": [
    "latest=pd.DataFrame(newcount,columns=['Words'])"
   ]
  },
  {
   "cell_type": "code",
   "execution_count": 33,
   "metadata": {},
   "outputs": [
    {
     "data": {
      "text/plain": [
       "              735\n",
       "text            7\n",
       "s               6\n",
       "content         5\n",
       "Lorem           4\n",
       "ipsum           4\n",
       "Latin           4\n",
       "elements        3\n",
       "It              3\n",
       "layout          3\n",
       "Cicero          2\n",
       "random          2\n",
       "often           2\n",
       "since           2\n",
       "typography      2\n",
       "             ... \n",
       "going           1\n",
       "sixteenth       1\n",
       "common          1\n",
       "helps           1\n",
       "alien           1\n",
       "addition        1\n",
       "mimic           1\n",
       "mostly          1\n",
       "many            1\n",
       "others          1\n",
       "Its             1\n",
       "appearence      1\n",
       "variants        1\n",
       "Think           1\n",
       "emphasise       1\n",
       "Name: 0, Length: 135, dtype: int64"
      ]
     }
